{
  "nbformat": 4,
  "nbformat_minor": 0,
  "metadata": {
    "kernelspec": {
      "name": "python394jvsc74a57bd000a0057cf2f9c4a0df06e894a73eeb895a7f1490f7a4358cd5607a5b0e43c3a1",
      "display_name": "Python 3.9.4 64-bit ('mrs': conda)"
    },
    "language_info": {
      "codemirror_mode": {
        "name": "ipython",
        "version": 3
      },
      "file_extension": ".py",
      "mimetype": "text/x-python",
      "name": "python",
      "nbconvert_exporter": "python",
      "pygments_lexer": "ipython3",
      "version": "3.9.4"
    },
    "colab": {
      "name": "preprocessing 4.ipynb",
      "provenance": [],
      "collapsed_sections": []
    },
    "metadata": {
      "interpreter": {
        "hash": "00a0057cf2f9c4a0df06e894a73eeb895a7f1490f7a4358cd5607a5b0e43c3a1"
      }
    }
  },
  "cells": [
    {
      "cell_type": "code",
      "metadata": {
        "id": "gZhqxpznOZWS"
      },
      "source": [
        "import pandas as pd\n",
        "import numpy as np\n",
        "import requests\n",
        "import bs4 as bs\n",
        "import urllib.request"
      ],
      "execution_count": 1,
      "outputs": []
    },
    {
      "cell_type": "markdown",
      "metadata": {
        "id": "xhXPbpjhOZWT"
      },
      "source": [
        "## Extracting features of 2020 movies from Wikipedia"
      ]
    },
    {
      "cell_type": "code",
      "metadata": {
        "id": "1o9WJASWOZWT"
      },
      "source": [
        "link = \"https://en.wikipedia.org/wiki/List_of_American_films_of_2021\""
      ],
      "execution_count": 2,
      "outputs": []
    },
    {
      "cell_type": "code",
      "metadata": {
        "id": "TIlfZhgwOZWT"
      },
      "source": [
        "source = urllib.request.urlopen(link).read()\n",
        "soup = bs.BeautifulSoup(source,'lxml')"
      ],
      "execution_count": 3,
      "outputs": []
    },
    {
      "cell_type": "code",
      "metadata": {
        "id": "LFytQ2MaOZWT"
      },
      "source": [
        "tables = soup.find_all('table',class_='wikitable sortable')"
      ],
      "execution_count": 4,
      "outputs": []
    },
    {
      "cell_type": "code",
      "metadata": {
        "colab": {
          "base_uri": "https://localhost:8080/"
        },
        "id": "CdSLuBzGOZWT",
        "outputId": "a59c27fc-00d2-4acd-e5c8-3dd746d78baa"
      },
      "source": [
        "len(tables)"
      ],
      "execution_count": 5,
      "outputs": [
        {
          "output_type": "execute_result",
          "data": {
            "text/plain": [
              "4"
            ]
          },
          "metadata": {},
          "execution_count": 5
        }
      ]
    },
    {
      "cell_type": "code",
      "metadata": {
        "colab": {
          "base_uri": "https://localhost:8080/"
        },
        "id": "VoX7c9O-OZWU",
        "outputId": "78637bfa-e750-4c01-df0a-c791c80097b3"
      },
      "source": [
        "type(tables[0])"
      ],
      "execution_count": 6,
      "outputs": [
        {
          "output_type": "execute_result",
          "data": {
            "text/plain": [
              "bs4.element.Tag"
            ]
          },
          "metadata": {},
          "execution_count": 6
        }
      ]
    },
    {
      "cell_type": "code",
      "metadata": {
        "id": "1y2cECOMOZWU"
      },
      "source": [
        "df1 = pd.read_html(str(tables[0]))[0]\n",
        "df2 = pd.read_html(str(tables[1]))[0]\n",
        "df3 = pd.read_html(str(tables[2]))[0]\n",
        "df4 = pd.read_html(str(tables[3]).replace(\"'1\\\"\\'\",'\"1\"'))[0] # avoided \"ValueError: invalid literal for int() with base 10: '1\"'"
      ],
      "execution_count": 7,
      "outputs": []
    },
    {
      "cell_type": "code",
      "metadata": {
        "id": "t4MN1gZbOZWU"
      },
      "source": [
        "df = df1.append(df2.append(df3.append(df4,ignore_index=True),ignore_index=True),ignore_index=True)"
      ],
      "execution_count": 8,
      "outputs": []
    },
    {
      "cell_type": "code",
      "metadata": {
        "colab": {
          "base_uri": "https://localhost:8080/",
          "height": 406
        },
        "id": "4CCunB-rOZWU",
        "outputId": "a4d69bcd-088c-4655-a445-e8ebafdb10e6"
      },
      "source": [
        "df"
      ],
      "execution_count": 9,
      "outputs": [
        {
          "output_type": "execute_result",
          "data": {
            "text/plain": [
              "      Opening  Opening.1                Title  \\\n",
              "0     JANUARY        1.0  Shadow in the Cloud   \n",
              "1     JANUARY       13.0      The White Tiger   \n",
              "2     JANUARY       14.0          Locked Down   \n",
              "3     JANUARY       15.0              The Dig   \n",
              "4     JANUARY       15.0     Outside the Wire   \n",
              "..        ...        ...                  ...   \n",
              "171  DECEMBER       22.0               Sing 2   \n",
              "172  DECEMBER       22.0       The King's Man   \n",
              "173  DECEMBER       22.0      Downton Abbey 2   \n",
              "174  DECEMBER       25.0               Cyrano   \n",
              "175  DECEMBER       25.0         Soggy Bottom   \n",
              "\n",
              "                            Production company  \\\n",
              "0                       Vertical Entertainment   \n",
              "1                                      Netflix   \n",
              "2              HBO Max / Warner Bros. Pictures   \n",
              "3                  Netflix / Clerkenwell Films   \n",
              "4                                      Netflix   \n",
              "..                                         ...   \n",
              "171          Universal Pictures / Illumination   \n",
              "172          20th Century Studios / Marv Films   \n",
              "173            Focus Features / Carnival Films   \n",
              "174  Metro-Goldwyn-Mayer / Working Title Films   \n",
              "175        Metro-Goldwyn-Mayer / Bron Creative   \n",
              "\n",
              "                                         Cast and crew  Ref   Ref.  \n",
              "0    Roseanne Liang (director/screenplay; Max Landi...  [2]    NaN  \n",
              "1    Ramin Bahrani (director/screenplay); Adarsh Go...  NaN    NaN  \n",
              "2    Doug Liman (director); Steven Knight (screenpl...  [3]    NaN  \n",
              "3    Simon Stone (director); Moira Buffini (screenp...  [4]    NaN  \n",
              "4    Mikael Håfström (director); Rob Yescombe, Rowa...  [5]    NaN  \n",
              "..                                                 ...  ...    ...  \n",
              "171  Garth Jennings (director/screenplay); Matthew ...  NaN  [132]  \n",
              "172  Matthew Vaughn (director/screenplay); Karl Gaj...  NaN   [90]  \n",
              "173  Simon Curtis (director); Julian Fellowes (scre...  NaN  [133]  \n",
              "174  Joe Wright (director); Erica Schmidt (screenpl...  NaN  [134]  \n",
              "175  Paul Thomas Anderson (director/screenplay); Co...  NaN  [135]  \n",
              "\n",
              "[176 rows x 7 columns]"
            ],
            "text/html": "<div>\n<style scoped>\n    .dataframe tbody tr th:only-of-type {\n        vertical-align: middle;\n    }\n\n    .dataframe tbody tr th {\n        vertical-align: top;\n    }\n\n    .dataframe thead th {\n        text-align: right;\n    }\n</style>\n<table border=\"1\" class=\"dataframe\">\n  <thead>\n    <tr style=\"text-align: right;\">\n      <th></th>\n      <th>Opening</th>\n      <th>Opening.1</th>\n      <th>Title</th>\n      <th>Production company</th>\n      <th>Cast and crew</th>\n      <th>Ref</th>\n      <th>Ref.</th>\n    </tr>\n  </thead>\n  <tbody>\n    <tr>\n      <th>0</th>\n      <td>JANUARY</td>\n      <td>1.0</td>\n      <td>Shadow in the Cloud</td>\n      <td>Vertical Entertainment</td>\n      <td>Roseanne Liang (director/screenplay; Max Landi...</td>\n      <td>[2]</td>\n      <td>NaN</td>\n    </tr>\n    <tr>\n      <th>1</th>\n      <td>JANUARY</td>\n      <td>13.0</td>\n      <td>The White Tiger</td>\n      <td>Netflix</td>\n      <td>Ramin Bahrani (director/screenplay); Adarsh Go...</td>\n      <td>NaN</td>\n      <td>NaN</td>\n    </tr>\n    <tr>\n      <th>2</th>\n      <td>JANUARY</td>\n      <td>14.0</td>\n      <td>Locked Down</td>\n      <td>HBO Max / Warner Bros. Pictures</td>\n      <td>Doug Liman (director); Steven Knight (screenpl...</td>\n      <td>[3]</td>\n      <td>NaN</td>\n    </tr>\n    <tr>\n      <th>3</th>\n      <td>JANUARY</td>\n      <td>15.0</td>\n      <td>The Dig</td>\n      <td>Netflix / Clerkenwell Films</td>\n      <td>Simon Stone (director); Moira Buffini (screenp...</td>\n      <td>[4]</td>\n      <td>NaN</td>\n    </tr>\n    <tr>\n      <th>4</th>\n      <td>JANUARY</td>\n      <td>15.0</td>\n      <td>Outside the Wire</td>\n      <td>Netflix</td>\n      <td>Mikael Håfström (director); Rob Yescombe, Rowa...</td>\n      <td>[5]</td>\n      <td>NaN</td>\n    </tr>\n    <tr>\n      <th>...</th>\n      <td>...</td>\n      <td>...</td>\n      <td>...</td>\n      <td>...</td>\n      <td>...</td>\n      <td>...</td>\n      <td>...</td>\n    </tr>\n    <tr>\n      <th>171</th>\n      <td>DECEMBER</td>\n      <td>22.0</td>\n      <td>Sing 2</td>\n      <td>Universal Pictures / Illumination</td>\n      <td>Garth Jennings (director/screenplay); Matthew ...</td>\n      <td>NaN</td>\n      <td>[132]</td>\n    </tr>\n    <tr>\n      <th>172</th>\n      <td>DECEMBER</td>\n      <td>22.0</td>\n      <td>The King's Man</td>\n      <td>20th Century Studios / Marv Films</td>\n      <td>Matthew Vaughn (director/screenplay); Karl Gaj...</td>\n      <td>NaN</td>\n      <td>[90]</td>\n    </tr>\n    <tr>\n      <th>173</th>\n      <td>DECEMBER</td>\n      <td>22.0</td>\n      <td>Downton Abbey 2</td>\n      <td>Focus Features / Carnival Films</td>\n      <td>Simon Curtis (director); Julian Fellowes (scre...</td>\n      <td>NaN</td>\n      <td>[133]</td>\n    </tr>\n    <tr>\n      <th>174</th>\n      <td>DECEMBER</td>\n      <td>25.0</td>\n      <td>Cyrano</td>\n      <td>Metro-Goldwyn-Mayer / Working Title Films</td>\n      <td>Joe Wright (director); Erica Schmidt (screenpl...</td>\n      <td>NaN</td>\n      <td>[134]</td>\n    </tr>\n    <tr>\n      <th>175</th>\n      <td>DECEMBER</td>\n      <td>25.0</td>\n      <td>Soggy Bottom</td>\n      <td>Metro-Goldwyn-Mayer / Bron Creative</td>\n      <td>Paul Thomas Anderson (director/screenplay); Co...</td>\n      <td>NaN</td>\n      <td>[135]</td>\n    </tr>\n  </tbody>\n</table>\n<p>176 rows × 7 columns</p>\n</div>"
          },
          "metadata": {},
          "execution_count": 9
        }
      ]
    },
    {
      "cell_type": "code",
      "metadata": {
        "id": "9enI6QkuOZWV"
      },
      "source": [
        "df_2021 = df[['Title','Cast and crew']]"
      ],
      "execution_count": 10,
      "outputs": []
    },
    {
      "cell_type": "code",
      "metadata": {
        "colab": {
          "base_uri": "https://localhost:8080/",
          "height": 406
        },
        "id": "RT0jPJQQOZWV",
        "outputId": "2d6ab58f-996f-4099-e7bb-3e29abadf43c"
      },
      "source": [
        "df_2021"
      ],
      "execution_count": 11,
      "outputs": [
        {
          "output_type": "execute_result",
          "data": {
            "text/plain": [
              "                   Title                                      Cast and crew\n",
              "0    Shadow in the Cloud  Roseanne Liang (director/screenplay; Max Landi...\n",
              "1        The White Tiger  Ramin Bahrani (director/screenplay); Adarsh Go...\n",
              "2            Locked Down  Doug Liman (director); Steven Knight (screenpl...\n",
              "3                The Dig  Simon Stone (director); Moira Buffini (screenp...\n",
              "4       Outside the Wire  Mikael Håfström (director); Rob Yescombe, Rowa...\n",
              "..                   ...                                                ...\n",
              "171               Sing 2  Garth Jennings (director/screenplay); Matthew ...\n",
              "172       The King's Man  Matthew Vaughn (director/screenplay); Karl Gaj...\n",
              "173      Downton Abbey 2  Simon Curtis (director); Julian Fellowes (scre...\n",
              "174               Cyrano  Joe Wright (director); Erica Schmidt (screenpl...\n",
              "175         Soggy Bottom  Paul Thomas Anderson (director/screenplay); Co...\n",
              "\n",
              "[176 rows x 2 columns]"
            ],
            "text/html": "<div>\n<style scoped>\n    .dataframe tbody tr th:only-of-type {\n        vertical-align: middle;\n    }\n\n    .dataframe tbody tr th {\n        vertical-align: top;\n    }\n\n    .dataframe thead th {\n        text-align: right;\n    }\n</style>\n<table border=\"1\" class=\"dataframe\">\n  <thead>\n    <tr style=\"text-align: right;\">\n      <th></th>\n      <th>Title</th>\n      <th>Cast and crew</th>\n    </tr>\n  </thead>\n  <tbody>\n    <tr>\n      <th>0</th>\n      <td>Shadow in the Cloud</td>\n      <td>Roseanne Liang (director/screenplay; Max Landi...</td>\n    </tr>\n    <tr>\n      <th>1</th>\n      <td>The White Tiger</td>\n      <td>Ramin Bahrani (director/screenplay); Adarsh Go...</td>\n    </tr>\n    <tr>\n      <th>2</th>\n      <td>Locked Down</td>\n      <td>Doug Liman (director); Steven Knight (screenpl...</td>\n    </tr>\n    <tr>\n      <th>3</th>\n      <td>The Dig</td>\n      <td>Simon Stone (director); Moira Buffini (screenp...</td>\n    </tr>\n    <tr>\n      <th>4</th>\n      <td>Outside the Wire</td>\n      <td>Mikael Håfström (director); Rob Yescombe, Rowa...</td>\n    </tr>\n    <tr>\n      <th>...</th>\n      <td>...</td>\n      <td>...</td>\n    </tr>\n    <tr>\n      <th>171</th>\n      <td>Sing 2</td>\n      <td>Garth Jennings (director/screenplay); Matthew ...</td>\n    </tr>\n    <tr>\n      <th>172</th>\n      <td>The King's Man</td>\n      <td>Matthew Vaughn (director/screenplay); Karl Gaj...</td>\n    </tr>\n    <tr>\n      <th>173</th>\n      <td>Downton Abbey 2</td>\n      <td>Simon Curtis (director); Julian Fellowes (scre...</td>\n    </tr>\n    <tr>\n      <th>174</th>\n      <td>Cyrano</td>\n      <td>Joe Wright (director); Erica Schmidt (screenpl...</td>\n    </tr>\n    <tr>\n      <th>175</th>\n      <td>Soggy Bottom</td>\n      <td>Paul Thomas Anderson (director/screenplay); Co...</td>\n    </tr>\n  </tbody>\n</table>\n<p>176 rows × 2 columns</p>\n</div>"
          },
          "metadata": {},
          "execution_count": 11
        }
      ]
    },
    {
      "cell_type": "code",
      "metadata": {
        "colab": {
          "base_uri": "https://localhost:8080/"
        },
        "id": "KYTIVryiOkeW",
        "outputId": "629f16ee-2aa7-4b7f-8393-09afdefef5d5"
      },
      "source": [
        "# !pip install tmdbv3api"
      ],
      "execution_count": 12,
      "outputs": []
    },
    {
      "cell_type": "code",
      "metadata": {
        "id": "61XvcEzPOZWV"
      },
      "source": [
        "from tmdbv3api import TMDb\n",
        "import json\n",
        "import requests\n",
        "tmdb = TMDb()\n",
        "tmdb.api_key = 'a6d0cb3b7c1112716b5ad4788420eade'"
      ],
      "execution_count": 13,
      "outputs": []
    },
    {
      "cell_type": "code",
      "metadata": {
        "id": "_4q66M86OfgF"
      },
      "source": [
        "from tmdbv3api import Movie\n",
        "tmdb_movie = Movie() \n",
        "def get_genre(x):\n",
        "    genres = []\n",
        "    result = tmdb_movie.search(x)\n",
        "    if not result:\n",
        "      return np.NaN\n",
        "    else:\n",
        "      movie_id = result[0].id\n",
        "      response = requests.get('https://api.themoviedb.org/3/movie/{}?api_key={}'.format(movie_id,tmdb.api_key))\n",
        "      data_json = response.json()\n",
        "      if data_json['genres']:\n",
        "          genre_str = \" \" \n",
        "          for i in range(0,len(data_json['genres'])):\n",
        "              genres.append(data_json['genres'][i]['name'])\n",
        "          return genre_str.join(genres)\n",
        "      else:\n",
        "          return np.NaN"
      ],
      "execution_count": 14,
      "outputs": []
    },
    {
      "cell_type": "code",
      "metadata": {
        "scrolled": true,
        "colab": {
          "base_uri": "https://localhost:8080/"
        },
        "id": "uSjX4AsmOZWV",
        "outputId": "da21d28b-1f7a-4171-8b87-2eabcc897a8d"
      },
      "source": [
        "df_2021['genres'] = df_2021['Title'].map(lambda x: get_genre(str(x)))"
      ],
      "execution_count": 15,
      "outputs": [
        {
          "output_type": "stream",
          "name": "stderr",
          "text": [
            "<ipython-input-15-252c1cda1e49>:1: SettingWithCopyWarning: \nA value is trying to be set on a copy of a slice from a DataFrame.\nTry using .loc[row_indexer,col_indexer] = value instead\n\nSee the caveats in the documentation: https://pandas.pydata.org/pandas-docs/stable/user_guide/indexing.html#returning-a-view-versus-a-copy\n  df_2021['genres'] = df_2021['Title'].map(lambda x: get_genre(str(x)))\n"
          ]
        }
      ]
    },
    {
      "cell_type": "code",
      "metadata": {
        "colab": {
          "base_uri": "https://localhost:8080/",
          "height": 406
        },
        "id": "aiwOqJZMOZWV",
        "outputId": "032dfad5-985e-4d24-9fed-ed92c9edfba3"
      },
      "source": [
        "df_2021"
      ],
      "execution_count": 16,
      "outputs": [
        {
          "output_type": "execute_result",
          "data": {
            "text/plain": [
              "                   Title                                      Cast and crew  \\\n",
              "0    Shadow in the Cloud  Roseanne Liang (director/screenplay; Max Landi...   \n",
              "1        The White Tiger  Ramin Bahrani (director/screenplay); Adarsh Go...   \n",
              "2            Locked Down  Doug Liman (director); Steven Knight (screenpl...   \n",
              "3                The Dig  Simon Stone (director); Moira Buffini (screenp...   \n",
              "4       Outside the Wire  Mikael Håfström (director); Rob Yescombe, Rowa...   \n",
              "..                   ...                                                ...   \n",
              "171               Sing 2  Garth Jennings (director/screenplay); Matthew ...   \n",
              "172       The King's Man  Matthew Vaughn (director/screenplay); Karl Gaj...   \n",
              "173      Downton Abbey 2  Simon Curtis (director); Julian Fellowes (scre...   \n",
              "174               Cyrano  Joe Wright (director); Erica Schmidt (screenpl...   \n",
              "175         Soggy Bottom  Paul Thomas Anderson (director/screenplay); Co...   \n",
              "\n",
              "                              genres  \n",
              "0            Horror Action Drama War  \n",
              "1                        Crime Drama  \n",
              "2                 Comedy Crime Drama  \n",
              "3                      Drama History  \n",
              "4    Thriller Action Science Fiction  \n",
              "..                               ...  \n",
              "171    Music Animation Comedy Family  \n",
              "172          Action Adventure Comedy  \n",
              "173                            Drama  \n",
              "174     Drama Comedy History Romance  \n",
              "175                           Comedy  \n",
              "\n",
              "[176 rows x 3 columns]"
            ],
            "text/html": "<div>\n<style scoped>\n    .dataframe tbody tr th:only-of-type {\n        vertical-align: middle;\n    }\n\n    .dataframe tbody tr th {\n        vertical-align: top;\n    }\n\n    .dataframe thead th {\n        text-align: right;\n    }\n</style>\n<table border=\"1\" class=\"dataframe\">\n  <thead>\n    <tr style=\"text-align: right;\">\n      <th></th>\n      <th>Title</th>\n      <th>Cast and crew</th>\n      <th>genres</th>\n    </tr>\n  </thead>\n  <tbody>\n    <tr>\n      <th>0</th>\n      <td>Shadow in the Cloud</td>\n      <td>Roseanne Liang (director/screenplay; Max Landi...</td>\n      <td>Horror Action Drama War</td>\n    </tr>\n    <tr>\n      <th>1</th>\n      <td>The White Tiger</td>\n      <td>Ramin Bahrani (director/screenplay); Adarsh Go...</td>\n      <td>Crime Drama</td>\n    </tr>\n    <tr>\n      <th>2</th>\n      <td>Locked Down</td>\n      <td>Doug Liman (director); Steven Knight (screenpl...</td>\n      <td>Comedy Crime Drama</td>\n    </tr>\n    <tr>\n      <th>3</th>\n      <td>The Dig</td>\n      <td>Simon Stone (director); Moira Buffini (screenp...</td>\n      <td>Drama History</td>\n    </tr>\n    <tr>\n      <th>4</th>\n      <td>Outside the Wire</td>\n      <td>Mikael Håfström (director); Rob Yescombe, Rowa...</td>\n      <td>Thriller Action Science Fiction</td>\n    </tr>\n    <tr>\n      <th>...</th>\n      <td>...</td>\n      <td>...</td>\n      <td>...</td>\n    </tr>\n    <tr>\n      <th>171</th>\n      <td>Sing 2</td>\n      <td>Garth Jennings (director/screenplay); Matthew ...</td>\n      <td>Music Animation Comedy Family</td>\n    </tr>\n    <tr>\n      <th>172</th>\n      <td>The King's Man</td>\n      <td>Matthew Vaughn (director/screenplay); Karl Gaj...</td>\n      <td>Action Adventure Comedy</td>\n    </tr>\n    <tr>\n      <th>173</th>\n      <td>Downton Abbey 2</td>\n      <td>Simon Curtis (director); Julian Fellowes (scre...</td>\n      <td>Drama</td>\n    </tr>\n    <tr>\n      <th>174</th>\n      <td>Cyrano</td>\n      <td>Joe Wright (director); Erica Schmidt (screenpl...</td>\n      <td>Drama Comedy History Romance</td>\n    </tr>\n    <tr>\n      <th>175</th>\n      <td>Soggy Bottom</td>\n      <td>Paul Thomas Anderson (director/screenplay); Co...</td>\n      <td>Comedy</td>\n    </tr>\n  </tbody>\n</table>\n<p>176 rows × 3 columns</p>\n</div>"
          },
          "metadata": {},
          "execution_count": 16
        }
      ]
    },
    {
      "cell_type": "code",
      "metadata": {
        "id": "GcqUuFyiOZWW"
      },
      "source": [
        "def get_director(x):\n",
        "    if \" (director)\" in x:\n",
        "        return x.split(\" (director)\")[0]\n",
        "    elif \" (directors)\" in x:\n",
        "        return x.split(\" (directors)\")[0]\n",
        "    else:\n",
        "        return x.split(\" (director/screenplay)\")[0]"
      ],
      "execution_count": 17,
      "outputs": []
    },
    {
      "cell_type": "code",
      "metadata": {
        "colab": {
          "base_uri": "https://localhost:8080/"
        },
        "id": "A7RzXkBQOZWW",
        "outputId": "161deb48-6037-468b-c4b4-44cd51d0efc1"
      },
      "source": [
        "df_2021['director_name'] = df_2021['Cast and crew'].map(lambda x: get_director(str(x)))"
      ],
      "execution_count": 18,
      "outputs": [
        {
          "output_type": "stream",
          "name": "stderr",
          "text": [
            "<ipython-input-18-059d9cfe3ca6>:1: SettingWithCopyWarning: \nA value is trying to be set on a copy of a slice from a DataFrame.\nTry using .loc[row_indexer,col_indexer] = value instead\n\nSee the caveats in the documentation: https://pandas.pydata.org/pandas-docs/stable/user_guide/indexing.html#returning-a-view-versus-a-copy\n  df_2021['director_name'] = df_2021['Cast and crew'].map(lambda x: get_director(str(x)))\n"
          ]
        }
      ]
    },
    {
      "cell_type": "code",
      "metadata": {
        "id": "wwBWFgBSOZWW"
      },
      "source": [
        "def get_actor1(x):\n",
        "    return ((x.split(\"screenplay); \")[-1]).split(\", \")[0])"
      ],
      "execution_count": 19,
      "outputs": []
    },
    {
      "cell_type": "code",
      "metadata": {
        "colab": {
          "base_uri": "https://localhost:8080/"
        },
        "id": "gxr9Y4IJOZWW",
        "outputId": "68904c09-7d50-424d-e908-804489e84d05"
      },
      "source": [
        "df_2021['actor_1_name'] = df_2021['Cast and crew'].map(lambda x: get_actor1(str(x)))"
      ],
      "execution_count": 20,
      "outputs": [
        {
          "output_type": "stream",
          "name": "stderr",
          "text": [
            "<ipython-input-20-fbf9a4980306>:1: SettingWithCopyWarning: \nA value is trying to be set on a copy of a slice from a DataFrame.\nTry using .loc[row_indexer,col_indexer] = value instead\n\nSee the caveats in the documentation: https://pandas.pydata.org/pandas-docs/stable/user_guide/indexing.html#returning-a-view-versus-a-copy\n  df_2021['actor_1_name'] = df_2021['Cast and crew'].map(lambda x: get_actor1(str(x)))\n"
          ]
        }
      ]
    },
    {
      "cell_type": "code",
      "metadata": {
        "id": "Qc7I49gVOZWX"
      },
      "source": [
        "def get_actor2(x):\n",
        "    if len((x.split(\"screenplay); \")[-1]).split(\", \")) < 2:\n",
        "        return np.NaN\n",
        "    else:\n",
        "        return ((x.split(\"screenplay); \")[-1]).split(\", \")[1])"
      ],
      "execution_count": 21,
      "outputs": []
    },
    {
      "cell_type": "code",
      "metadata": {
        "id": "ipspWbjaOZWX"
      },
      "source": [
        "df_2021['actor_2_name'] = df_2021['Cast and crew'].map(lambda x: get_actor2(str(x)))"
      ],
      "execution_count": 22,
      "outputs": [
        {
          "output_type": "stream",
          "name": "stderr",
          "text": [
            "<ipython-input-22-597eaf6de001>:1: SettingWithCopyWarning: \nA value is trying to be set on a copy of a slice from a DataFrame.\nTry using .loc[row_indexer,col_indexer] = value instead\n\nSee the caveats in the documentation: https://pandas.pydata.org/pandas-docs/stable/user_guide/indexing.html#returning-a-view-versus-a-copy\n  df_2021['actor_2_name'] = df_2021['Cast and crew'].map(lambda x: get_actor2(str(x)))\n"
          ]
        }
      ]
    },
    {
      "cell_type": "code",
      "metadata": {
        "id": "pQmab5aiOZWX"
      },
      "source": [
        "def get_actor3(x):\n",
        "    if len((x.split(\"screenplay); \")[-1]).split(\", \")) < 3:\n",
        "        return np.NaN\n",
        "    else:\n",
        "        return ((x.split(\"screenplay); \")[-1]).split(\", \")[2])"
      ],
      "execution_count": 23,
      "outputs": []
    },
    {
      "cell_type": "code",
      "metadata": {
        "id": "vWSs45LWOZWX"
      },
      "source": [
        "df_2021['actor_3_name'] = df_2021['Cast and crew'].map(lambda x: get_actor3(str(x)))"
      ],
      "execution_count": 24,
      "outputs": []
    },
    {
      "cell_type": "code",
      "metadata": {
        "colab": {
          "base_uri": "https://localhost:8080/",
          "height": 406
        },
        "id": "2xDIRn7DOZWX",
        "outputId": "ad8d83b3-a608-43db-eeff-53a434ab3d4f"
      },
      "source": [
        "df_2021"
      ],
      "execution_count": 25,
      "outputs": [
        {
          "output_type": "execute_result",
          "data": {
            "text/plain": [
              "                   Title                                      Cast and crew  \\\n",
              "0    Shadow in the Cloud  Roseanne Liang (director/screenplay; Max Landi...   \n",
              "1        The White Tiger  Ramin Bahrani (director/screenplay); Adarsh Go...   \n",
              "2            Locked Down  Doug Liman (director); Steven Knight (screenpl...   \n",
              "3                The Dig  Simon Stone (director); Moira Buffini (screenp...   \n",
              "4       Outside the Wire  Mikael Håfström (director); Rob Yescombe, Rowa...   \n",
              "..                   ...                                                ...   \n",
              "171               Sing 2  Garth Jennings (director/screenplay); Matthew ...   \n",
              "172       The King's Man  Matthew Vaughn (director/screenplay); Karl Gaj...   \n",
              "173      Downton Abbey 2  Simon Curtis (director); Julian Fellowes (scre...   \n",
              "174               Cyrano  Joe Wright (director); Erica Schmidt (screenpl...   \n",
              "175         Soggy Bottom  Paul Thomas Anderson (director/screenplay); Co...   \n",
              "\n",
              "                              genres  \\\n",
              "0            Horror Action Drama War   \n",
              "1                        Crime Drama   \n",
              "2                 Comedy Crime Drama   \n",
              "3                      Drama History   \n",
              "4    Thriller Action Science Fiction   \n",
              "..                               ...   \n",
              "171    Music Animation Comedy Family   \n",
              "172          Action Adventure Comedy   \n",
              "173                            Drama   \n",
              "174     Drama Comedy History Romance   \n",
              "175                           Comedy   \n",
              "\n",
              "                                         director_name         actor_1_name  \\\n",
              "0    Roseanne Liang (director/screenplay; Max Landi...   Chloë Grace Moretz   \n",
              "1                                        Ramin Bahrani        Adarsh Gourav   \n",
              "2                                           Doug Liman        Anne Hathaway   \n",
              "3                                          Simon Stone       Carey Mulligan   \n",
              "4                                      Mikael Håfström       Anthony Mackie   \n",
              "..                                                 ...                  ...   \n",
              "171                                     Garth Jennings  Matthew McConaughey   \n",
              "172                                     Matthew Vaughn        Ralph Fiennes   \n",
              "173                                       Simon Curtis      Hugh Bonneville   \n",
              "174                                         Joe Wright       Peter Dinklage   \n",
              "175                               Paul Thomas Anderson       Cooper Hoffman   \n",
              "\n",
              "          actor_2_name           actor_3_name  \n",
              "0    Taylor John Smith           Beulah Koale  \n",
              "1        Rajkummar Rao  Priyanka Chopra Jonas  \n",
              "2     Chiwetel Ejiofor       Stephen Merchant  \n",
              "3        Ralph Fiennes             Lily James  \n",
              "4         Damson Idris          Emily Beecham  \n",
              "..                 ...                    ...  \n",
              "171  Reese Witherspoon     Scarlett Johansson  \n",
              "172     Gemma Arterton             Rhys Ifans  \n",
              "173         Jim Carter       Michelle Dockery  \n",
              "174      Haley Bennett         Ben Mendelsohn  \n",
              "175     Bradley Cooper             Alana Haim  \n",
              "\n",
              "[176 rows x 7 columns]"
            ],
            "text/html": "<div>\n<style scoped>\n    .dataframe tbody tr th:only-of-type {\n        vertical-align: middle;\n    }\n\n    .dataframe tbody tr th {\n        vertical-align: top;\n    }\n\n    .dataframe thead th {\n        text-align: right;\n    }\n</style>\n<table border=\"1\" class=\"dataframe\">\n  <thead>\n    <tr style=\"text-align: right;\">\n      <th></th>\n      <th>Title</th>\n      <th>Cast and crew</th>\n      <th>genres</th>\n      <th>director_name</th>\n      <th>actor_1_name</th>\n      <th>actor_2_name</th>\n      <th>actor_3_name</th>\n    </tr>\n  </thead>\n  <tbody>\n    <tr>\n      <th>0</th>\n      <td>Shadow in the Cloud</td>\n      <td>Roseanne Liang (director/screenplay; Max Landi...</td>\n      <td>Horror Action Drama War</td>\n      <td>Roseanne Liang (director/screenplay; Max Landi...</td>\n      <td>Chloë Grace Moretz</td>\n      <td>Taylor John Smith</td>\n      <td>Beulah Koale</td>\n    </tr>\n    <tr>\n      <th>1</th>\n      <td>The White Tiger</td>\n      <td>Ramin Bahrani (director/screenplay); Adarsh Go...</td>\n      <td>Crime Drama</td>\n      <td>Ramin Bahrani</td>\n      <td>Adarsh Gourav</td>\n      <td>Rajkummar Rao</td>\n      <td>Priyanka Chopra Jonas</td>\n    </tr>\n    <tr>\n      <th>2</th>\n      <td>Locked Down</td>\n      <td>Doug Liman (director); Steven Knight (screenpl...</td>\n      <td>Comedy Crime Drama</td>\n      <td>Doug Liman</td>\n      <td>Anne Hathaway</td>\n      <td>Chiwetel Ejiofor</td>\n      <td>Stephen Merchant</td>\n    </tr>\n    <tr>\n      <th>3</th>\n      <td>The Dig</td>\n      <td>Simon Stone (director); Moira Buffini (screenp...</td>\n      <td>Drama History</td>\n      <td>Simon Stone</td>\n      <td>Carey Mulligan</td>\n      <td>Ralph Fiennes</td>\n      <td>Lily James</td>\n    </tr>\n    <tr>\n      <th>4</th>\n      <td>Outside the Wire</td>\n      <td>Mikael Håfström (director); Rob Yescombe, Rowa...</td>\n      <td>Thriller Action Science Fiction</td>\n      <td>Mikael Håfström</td>\n      <td>Anthony Mackie</td>\n      <td>Damson Idris</td>\n      <td>Emily Beecham</td>\n    </tr>\n    <tr>\n      <th>...</th>\n      <td>...</td>\n      <td>...</td>\n      <td>...</td>\n      <td>...</td>\n      <td>...</td>\n      <td>...</td>\n      <td>...</td>\n    </tr>\n    <tr>\n      <th>171</th>\n      <td>Sing 2</td>\n      <td>Garth Jennings (director/screenplay); Matthew ...</td>\n      <td>Music Animation Comedy Family</td>\n      <td>Garth Jennings</td>\n      <td>Matthew McConaughey</td>\n      <td>Reese Witherspoon</td>\n      <td>Scarlett Johansson</td>\n    </tr>\n    <tr>\n      <th>172</th>\n      <td>The King's Man</td>\n      <td>Matthew Vaughn (director/screenplay); Karl Gaj...</td>\n      <td>Action Adventure Comedy</td>\n      <td>Matthew Vaughn</td>\n      <td>Ralph Fiennes</td>\n      <td>Gemma Arterton</td>\n      <td>Rhys Ifans</td>\n    </tr>\n    <tr>\n      <th>173</th>\n      <td>Downton Abbey 2</td>\n      <td>Simon Curtis (director); Julian Fellowes (scre...</td>\n      <td>Drama</td>\n      <td>Simon Curtis</td>\n      <td>Hugh Bonneville</td>\n      <td>Jim Carter</td>\n      <td>Michelle Dockery</td>\n    </tr>\n    <tr>\n      <th>174</th>\n      <td>Cyrano</td>\n      <td>Joe Wright (director); Erica Schmidt (screenpl...</td>\n      <td>Drama Comedy History Romance</td>\n      <td>Joe Wright</td>\n      <td>Peter Dinklage</td>\n      <td>Haley Bennett</td>\n      <td>Ben Mendelsohn</td>\n    </tr>\n    <tr>\n      <th>175</th>\n      <td>Soggy Bottom</td>\n      <td>Paul Thomas Anderson (director/screenplay); Co...</td>\n      <td>Comedy</td>\n      <td>Paul Thomas Anderson</td>\n      <td>Cooper Hoffman</td>\n      <td>Bradley Cooper</td>\n      <td>Alana Haim</td>\n    </tr>\n  </tbody>\n</table>\n<p>176 rows × 7 columns</p>\n</div>"
          },
          "metadata": {},
          "execution_count": 25
        }
      ]
    },
    {
      "cell_type": "code",
      "metadata": {
        "id": "rBUUnUtfOZWX"
      },
      "source": [
        "df_2021 = df_2021.rename(columns={'Title':'movie_title'})"
      ],
      "execution_count": 26,
      "outputs": []
    },
    {
      "cell_type": "code",
      "metadata": {
        "id": "_WCWVlAqOZWX"
      },
      "source": [
        "new_df21 = df_2021.loc[:,['director_name','actor_1_name','actor_2_name','actor_3_name','genres','movie_title']]"
      ],
      "execution_count": 27,
      "outputs": []
    },
    {
      "cell_type": "code",
      "metadata": {
        "colab": {
          "base_uri": "https://localhost:8080/",
          "height": 406
        },
        "id": "i7KBDmu_OZWX",
        "outputId": "6b4de81e-b1ac-4fb0-d349-52ae7c210346"
      },
      "source": [
        "new_df21"
      ],
      "execution_count": 28,
      "outputs": [
        {
          "output_type": "execute_result",
          "data": {
            "text/plain": [
              "                                         director_name         actor_1_name  \\\n",
              "0    Roseanne Liang (director/screenplay; Max Landi...   Chloë Grace Moretz   \n",
              "1                                        Ramin Bahrani        Adarsh Gourav   \n",
              "2                                           Doug Liman        Anne Hathaway   \n",
              "3                                          Simon Stone       Carey Mulligan   \n",
              "4                                      Mikael Håfström       Anthony Mackie   \n",
              "..                                                 ...                  ...   \n",
              "171                                     Garth Jennings  Matthew McConaughey   \n",
              "172                                     Matthew Vaughn        Ralph Fiennes   \n",
              "173                                       Simon Curtis      Hugh Bonneville   \n",
              "174                                         Joe Wright       Peter Dinklage   \n",
              "175                               Paul Thomas Anderson       Cooper Hoffman   \n",
              "\n",
              "          actor_2_name           actor_3_name  \\\n",
              "0    Taylor John Smith           Beulah Koale   \n",
              "1        Rajkummar Rao  Priyanka Chopra Jonas   \n",
              "2     Chiwetel Ejiofor       Stephen Merchant   \n",
              "3        Ralph Fiennes             Lily James   \n",
              "4         Damson Idris          Emily Beecham   \n",
              "..                 ...                    ...   \n",
              "171  Reese Witherspoon     Scarlett Johansson   \n",
              "172     Gemma Arterton             Rhys Ifans   \n",
              "173         Jim Carter       Michelle Dockery   \n",
              "174      Haley Bennett         Ben Mendelsohn   \n",
              "175     Bradley Cooper             Alana Haim   \n",
              "\n",
              "                              genres          movie_title  \n",
              "0            Horror Action Drama War  Shadow in the Cloud  \n",
              "1                        Crime Drama      The White Tiger  \n",
              "2                 Comedy Crime Drama          Locked Down  \n",
              "3                      Drama History              The Dig  \n",
              "4    Thriller Action Science Fiction     Outside the Wire  \n",
              "..                               ...                  ...  \n",
              "171    Music Animation Comedy Family               Sing 2  \n",
              "172          Action Adventure Comedy       The King's Man  \n",
              "173                            Drama      Downton Abbey 2  \n",
              "174     Drama Comedy History Romance               Cyrano  \n",
              "175                           Comedy         Soggy Bottom  \n",
              "\n",
              "[176 rows x 6 columns]"
            ],
            "text/html": "<div>\n<style scoped>\n    .dataframe tbody tr th:only-of-type {\n        vertical-align: middle;\n    }\n\n    .dataframe tbody tr th {\n        vertical-align: top;\n    }\n\n    .dataframe thead th {\n        text-align: right;\n    }\n</style>\n<table border=\"1\" class=\"dataframe\">\n  <thead>\n    <tr style=\"text-align: right;\">\n      <th></th>\n      <th>director_name</th>\n      <th>actor_1_name</th>\n      <th>actor_2_name</th>\n      <th>actor_3_name</th>\n      <th>genres</th>\n      <th>movie_title</th>\n    </tr>\n  </thead>\n  <tbody>\n    <tr>\n      <th>0</th>\n      <td>Roseanne Liang (director/screenplay; Max Landi...</td>\n      <td>Chloë Grace Moretz</td>\n      <td>Taylor John Smith</td>\n      <td>Beulah Koale</td>\n      <td>Horror Action Drama War</td>\n      <td>Shadow in the Cloud</td>\n    </tr>\n    <tr>\n      <th>1</th>\n      <td>Ramin Bahrani</td>\n      <td>Adarsh Gourav</td>\n      <td>Rajkummar Rao</td>\n      <td>Priyanka Chopra Jonas</td>\n      <td>Crime Drama</td>\n      <td>The White Tiger</td>\n    </tr>\n    <tr>\n      <th>2</th>\n      <td>Doug Liman</td>\n      <td>Anne Hathaway</td>\n      <td>Chiwetel Ejiofor</td>\n      <td>Stephen Merchant</td>\n      <td>Comedy Crime Drama</td>\n      <td>Locked Down</td>\n    </tr>\n    <tr>\n      <th>3</th>\n      <td>Simon Stone</td>\n      <td>Carey Mulligan</td>\n      <td>Ralph Fiennes</td>\n      <td>Lily James</td>\n      <td>Drama History</td>\n      <td>The Dig</td>\n    </tr>\n    <tr>\n      <th>4</th>\n      <td>Mikael Håfström</td>\n      <td>Anthony Mackie</td>\n      <td>Damson Idris</td>\n      <td>Emily Beecham</td>\n      <td>Thriller Action Science Fiction</td>\n      <td>Outside the Wire</td>\n    </tr>\n    <tr>\n      <th>...</th>\n      <td>...</td>\n      <td>...</td>\n      <td>...</td>\n      <td>...</td>\n      <td>...</td>\n      <td>...</td>\n    </tr>\n    <tr>\n      <th>171</th>\n      <td>Garth Jennings</td>\n      <td>Matthew McConaughey</td>\n      <td>Reese Witherspoon</td>\n      <td>Scarlett Johansson</td>\n      <td>Music Animation Comedy Family</td>\n      <td>Sing 2</td>\n    </tr>\n    <tr>\n      <th>172</th>\n      <td>Matthew Vaughn</td>\n      <td>Ralph Fiennes</td>\n      <td>Gemma Arterton</td>\n      <td>Rhys Ifans</td>\n      <td>Action Adventure Comedy</td>\n      <td>The King's Man</td>\n    </tr>\n    <tr>\n      <th>173</th>\n      <td>Simon Curtis</td>\n      <td>Hugh Bonneville</td>\n      <td>Jim Carter</td>\n      <td>Michelle Dockery</td>\n      <td>Drama</td>\n      <td>Downton Abbey 2</td>\n    </tr>\n    <tr>\n      <th>174</th>\n      <td>Joe Wright</td>\n      <td>Peter Dinklage</td>\n      <td>Haley Bennett</td>\n      <td>Ben Mendelsohn</td>\n      <td>Drama Comedy History Romance</td>\n      <td>Cyrano</td>\n    </tr>\n    <tr>\n      <th>175</th>\n      <td>Paul Thomas Anderson</td>\n      <td>Cooper Hoffman</td>\n      <td>Bradley Cooper</td>\n      <td>Alana Haim</td>\n      <td>Comedy</td>\n      <td>Soggy Bottom</td>\n    </tr>\n  </tbody>\n</table>\n<p>176 rows × 6 columns</p>\n</div>"
          },
          "metadata": {},
          "execution_count": 28
        }
      ]
    },
    {
      "cell_type": "code",
      "metadata": {
        "id": "0s7XMhqzOZWY"
      },
      "source": [
        "new_df21['comb'] = new_df21['actor_1_name'] + ' ' + new_df21['actor_2_name'] + ' '+ new_df21['actor_3_name'] + ' '+ new_df21['director_name'] +' ' + new_df21['genres']"
      ],
      "execution_count": 29,
      "outputs": []
    },
    {
      "cell_type": "code",
      "metadata": {
        "colab": {
          "base_uri": "https://localhost:8080/"
        },
        "id": "ta_KcPQJOZWY",
        "outputId": "ac6aa7b7-c156-49b2-9e95-3a76f971f5b1"
      },
      "source": [
        "new_df21.isna().sum()"
      ],
      "execution_count": 30,
      "outputs": [
        {
          "output_type": "execute_result",
          "data": {
            "text/plain": [
              "director_name    0\n",
              "actor_1_name     0\n",
              "actor_2_name     3\n",
              "actor_3_name     9\n",
              "genres           1\n",
              "movie_title      1\n",
              "comb             9\n",
              "dtype: int64"
            ]
          },
          "metadata": {},
          "execution_count": 30
        }
      ]
    },
    {
      "cell_type": "code",
      "metadata": {
        "id": "DkKroG5GOZWY"
      },
      "source": [
        "new_df21 = new_df21.dropna(how='any')"
      ],
      "execution_count": 31,
      "outputs": []
    },
    {
      "cell_type": "code",
      "metadata": {
        "colab": {
          "base_uri": "https://localhost:8080/"
        },
        "id": "YOIv1wvhOZWY",
        "outputId": "c3ad579e-16e2-4d8c-d4a0-71891d71b986"
      },
      "source": [
        "new_df21.isna().sum()"
      ],
      "execution_count": 32,
      "outputs": [
        {
          "output_type": "execute_result",
          "data": {
            "text/plain": [
              "director_name    0\n",
              "actor_1_name     0\n",
              "actor_2_name     0\n",
              "actor_3_name     0\n",
              "genres           0\n",
              "movie_title      0\n",
              "comb             0\n",
              "dtype: int64"
            ]
          },
          "metadata": {},
          "execution_count": 32
        }
      ]
    },
    {
      "cell_type": "code",
      "metadata": {
        "colab": {
          "base_uri": "https://localhost:8080/"
        },
        "id": "IB3YmNWROZWY",
        "outputId": "8abccee1-4b9e-436b-de18-eb97298d73a9"
      },
      "source": [
        "new_df21['movie_title'] = new_df21['movie_title'].str.lower()"
      ],
      "execution_count": 33,
      "outputs": [
        {
          "output_type": "stream",
          "name": "stderr",
          "text": [
            "<ipython-input-33-6e765124d575>:1: SettingWithCopyWarning: \nA value is trying to be set on a copy of a slice from a DataFrame.\nTry using .loc[row_indexer,col_indexer] = value instead\n\nSee the caveats in the documentation: https://pandas.pydata.org/pandas-docs/stable/user_guide/indexing.html#returning-a-view-versus-a-copy\n  new_df21['movie_title'] = new_df21['movie_title'].str.lower()\n"
          ]
        }
      ]
    },
    {
      "cell_type": "code",
      "metadata": {
        "colab": {
          "base_uri": "https://localhost:8080/",
          "height": 406
        },
        "id": "3e3NnY70OZWZ",
        "outputId": "cf4351f9-93f7-40bc-cc24-ab9e45bd8358"
      },
      "source": [
        "new_df21"
      ],
      "execution_count": 34,
      "outputs": [
        {
          "output_type": "execute_result",
          "data": {
            "text/plain": [
              "                                         director_name         actor_1_name  \\\n",
              "0    Roseanne Liang (director/screenplay; Max Landi...   Chloë Grace Moretz   \n",
              "1                                        Ramin Bahrani        Adarsh Gourav   \n",
              "2                                           Doug Liman        Anne Hathaway   \n",
              "3                                          Simon Stone       Carey Mulligan   \n",
              "4                                      Mikael Håfström       Anthony Mackie   \n",
              "..                                                 ...                  ...   \n",
              "171                                     Garth Jennings  Matthew McConaughey   \n",
              "172                                     Matthew Vaughn        Ralph Fiennes   \n",
              "173                                       Simon Curtis      Hugh Bonneville   \n",
              "174                                         Joe Wright       Peter Dinklage   \n",
              "175                               Paul Thomas Anderson       Cooper Hoffman   \n",
              "\n",
              "          actor_2_name           actor_3_name  \\\n",
              "0    Taylor John Smith           Beulah Koale   \n",
              "1        Rajkummar Rao  Priyanka Chopra Jonas   \n",
              "2     Chiwetel Ejiofor       Stephen Merchant   \n",
              "3        Ralph Fiennes             Lily James   \n",
              "4         Damson Idris          Emily Beecham   \n",
              "..                 ...                    ...   \n",
              "171  Reese Witherspoon     Scarlett Johansson   \n",
              "172     Gemma Arterton             Rhys Ifans   \n",
              "173         Jim Carter       Michelle Dockery   \n",
              "174      Haley Bennett         Ben Mendelsohn   \n",
              "175     Bradley Cooper             Alana Haim   \n",
              "\n",
              "                              genres          movie_title  \\\n",
              "0            Horror Action Drama War  shadow in the cloud   \n",
              "1                        Crime Drama      the white tiger   \n",
              "2                 Comedy Crime Drama          locked down   \n",
              "3                      Drama History              the dig   \n",
              "4    Thriller Action Science Fiction     outside the wire   \n",
              "..                               ...                  ...   \n",
              "171    Music Animation Comedy Family               sing 2   \n",
              "172          Action Adventure Comedy       the king's man   \n",
              "173                            Drama      downton abbey 2   \n",
              "174     Drama Comedy History Romance               cyrano   \n",
              "175                           Comedy         soggy bottom   \n",
              "\n",
              "                                                  comb  \n",
              "0    Chloë Grace Moretz Taylor John Smith Beulah Ko...  \n",
              "1    Adarsh Gourav Rajkummar Rao Priyanka Chopra Jo...  \n",
              "2    Anne Hathaway Chiwetel Ejiofor Stephen Merchan...  \n",
              "3    Carey Mulligan Ralph Fiennes Lily James Simon ...  \n",
              "4    Anthony Mackie Damson Idris Emily Beecham Mika...  \n",
              "..                                                 ...  \n",
              "171  Matthew McConaughey Reese Witherspoon Scarlett...  \n",
              "172  Ralph Fiennes Gemma Arterton Rhys Ifans Matthe...  \n",
              "173  Hugh Bonneville Jim Carter Michelle Dockery Si...  \n",
              "174  Peter Dinklage Haley Bennett Ben Mendelsohn Jo...  \n",
              "175  Cooper Hoffman Bradley Cooper Alana Haim Paul ...  \n",
              "\n",
              "[167 rows x 7 columns]"
            ],
            "text/html": "<div>\n<style scoped>\n    .dataframe tbody tr th:only-of-type {\n        vertical-align: middle;\n    }\n\n    .dataframe tbody tr th {\n        vertical-align: top;\n    }\n\n    .dataframe thead th {\n        text-align: right;\n    }\n</style>\n<table border=\"1\" class=\"dataframe\">\n  <thead>\n    <tr style=\"text-align: right;\">\n      <th></th>\n      <th>director_name</th>\n      <th>actor_1_name</th>\n      <th>actor_2_name</th>\n      <th>actor_3_name</th>\n      <th>genres</th>\n      <th>movie_title</th>\n      <th>comb</th>\n    </tr>\n  </thead>\n  <tbody>\n    <tr>\n      <th>0</th>\n      <td>Roseanne Liang (director/screenplay; Max Landi...</td>\n      <td>Chloë Grace Moretz</td>\n      <td>Taylor John Smith</td>\n      <td>Beulah Koale</td>\n      <td>Horror Action Drama War</td>\n      <td>shadow in the cloud</td>\n      <td>Chloë Grace Moretz Taylor John Smith Beulah Ko...</td>\n    </tr>\n    <tr>\n      <th>1</th>\n      <td>Ramin Bahrani</td>\n      <td>Adarsh Gourav</td>\n      <td>Rajkummar Rao</td>\n      <td>Priyanka Chopra Jonas</td>\n      <td>Crime Drama</td>\n      <td>the white tiger</td>\n      <td>Adarsh Gourav Rajkummar Rao Priyanka Chopra Jo...</td>\n    </tr>\n    <tr>\n      <th>2</th>\n      <td>Doug Liman</td>\n      <td>Anne Hathaway</td>\n      <td>Chiwetel Ejiofor</td>\n      <td>Stephen Merchant</td>\n      <td>Comedy Crime Drama</td>\n      <td>locked down</td>\n      <td>Anne Hathaway Chiwetel Ejiofor Stephen Merchan...</td>\n    </tr>\n    <tr>\n      <th>3</th>\n      <td>Simon Stone</td>\n      <td>Carey Mulligan</td>\n      <td>Ralph Fiennes</td>\n      <td>Lily James</td>\n      <td>Drama History</td>\n      <td>the dig</td>\n      <td>Carey Mulligan Ralph Fiennes Lily James Simon ...</td>\n    </tr>\n    <tr>\n      <th>4</th>\n      <td>Mikael Håfström</td>\n      <td>Anthony Mackie</td>\n      <td>Damson Idris</td>\n      <td>Emily Beecham</td>\n      <td>Thriller Action Science Fiction</td>\n      <td>outside the wire</td>\n      <td>Anthony Mackie Damson Idris Emily Beecham Mika...</td>\n    </tr>\n    <tr>\n      <th>...</th>\n      <td>...</td>\n      <td>...</td>\n      <td>...</td>\n      <td>...</td>\n      <td>...</td>\n      <td>...</td>\n      <td>...</td>\n    </tr>\n    <tr>\n      <th>171</th>\n      <td>Garth Jennings</td>\n      <td>Matthew McConaughey</td>\n      <td>Reese Witherspoon</td>\n      <td>Scarlett Johansson</td>\n      <td>Music Animation Comedy Family</td>\n      <td>sing 2</td>\n      <td>Matthew McConaughey Reese Witherspoon Scarlett...</td>\n    </tr>\n    <tr>\n      <th>172</th>\n      <td>Matthew Vaughn</td>\n      <td>Ralph Fiennes</td>\n      <td>Gemma Arterton</td>\n      <td>Rhys Ifans</td>\n      <td>Action Adventure Comedy</td>\n      <td>the king's man</td>\n      <td>Ralph Fiennes Gemma Arterton Rhys Ifans Matthe...</td>\n    </tr>\n    <tr>\n      <th>173</th>\n      <td>Simon Curtis</td>\n      <td>Hugh Bonneville</td>\n      <td>Jim Carter</td>\n      <td>Michelle Dockery</td>\n      <td>Drama</td>\n      <td>downton abbey 2</td>\n      <td>Hugh Bonneville Jim Carter Michelle Dockery Si...</td>\n    </tr>\n    <tr>\n      <th>174</th>\n      <td>Joe Wright</td>\n      <td>Peter Dinklage</td>\n      <td>Haley Bennett</td>\n      <td>Ben Mendelsohn</td>\n      <td>Drama Comedy History Romance</td>\n      <td>cyrano</td>\n      <td>Peter Dinklage Haley Bennett Ben Mendelsohn Jo...</td>\n    </tr>\n    <tr>\n      <th>175</th>\n      <td>Paul Thomas Anderson</td>\n      <td>Cooper Hoffman</td>\n      <td>Bradley Cooper</td>\n      <td>Alana Haim</td>\n      <td>Comedy</td>\n      <td>soggy bottom</td>\n      <td>Cooper Hoffman Bradley Cooper Alana Haim Paul ...</td>\n    </tr>\n  </tbody>\n</table>\n<p>167 rows × 7 columns</p>\n</div>"
          },
          "metadata": {},
          "execution_count": 34
        }
      ]
    },
    {
      "cell_type": "code",
      "metadata": {
        "id": "BCf9fH_4OZWZ"
      },
      "source": [
        "old_df = pd.read_csv('/mnt/ntfs-d/akallada/Desktop/projects/mrs/datasets/final_data.csv')"
      ],
      "execution_count": 35,
      "outputs": []
    },
    {
      "cell_type": "code",
      "metadata": {
        "id": "ce2e426yOZWZ",
        "outputId": "7d2c0bd7-6907-4398-c385-829b04ad921e"
      },
      "source": [
        "old_df"
      ],
      "execution_count": 36,
      "outputs": [
        {
          "output_type": "execute_result",
          "data": {
            "text/plain": [
              "               director_name       actor_1_name          actor_2_name  \\\n",
              "0              James Cameron        CCH Pounder      Joel David Moore   \n",
              "1             Gore Verbinski        Johnny Depp         Orlando Bloom   \n",
              "2                 Sam Mendes    Christoph Waltz          Rory Kinnear   \n",
              "3          Christopher Nolan          Tom Hardy        Christian Bale   \n",
              "4                Doug Walker        Doug Walker            Rob Walker   \n",
              "...                      ...                ...                   ...   \n",
              "5867  Nick Bruno, Troy Quane         Will Smith           Tom Holland   \n",
              "5868            Greta Gerwig      Saoirse Ronan           Emma Watson   \n",
              "5869              Sam Mendes      George MacKay  Dean-Charles Chapman   \n",
              "5870   Destin Daniel Cretton  Michael B. Jordan            Jamie Foxx   \n",
              "5871         Chinonye Chukwu      Alfre Woodard        Wendell Pierce   \n",
              "\n",
              "              actor_3_name                                    genres  \\\n",
              "0                Wes Studi           Action Adventure Fantasy Sci-Fi   \n",
              "1           Jack Davenport                  Action Adventure Fantasy   \n",
              "2         Stephanie Sigman                 Action Adventure Thriller   \n",
              "3     Joseph Gordon-Levitt                           Action Thriller   \n",
              "4                  unknown                               Documentary   \n",
              "...                    ...                                       ...   \n",
              "5867         Rashida Jones  Animation Action Adventure Comedy Family   \n",
              "5868         Florence Pugh                             Drama Romance   \n",
              "5869           Mark Strong                 War Drama Action Thriller   \n",
              "5870           Brie Larson                       Drama Crime History   \n",
              "5871           Aldis Hodge                                     Drama   \n",
              "\n",
              "                                            movie_title  \\\n",
              "0                                                avatar   \n",
              "1              pirates of the caribbean: at world's end   \n",
              "2                                               spectre   \n",
              "3                                 the dark knight rises   \n",
              "4     star wars: episode vii - the force awakens    ...   \n",
              "...                                                 ...   \n",
              "5867                                  spies in disguise   \n",
              "5868                                       little women   \n",
              "5869                                               1917   \n",
              "5870                                         just mercy   \n",
              "5871                                           clemency   \n",
              "\n",
              "                                                   comb  \n",
              "0     CCH Pounder Joel David Moore Wes Studi James C...  \n",
              "1     Johnny Depp Orlando Bloom Jack Davenport Gore ...  \n",
              "2     Christoph Waltz Rory Kinnear Stephanie Sigman ...  \n",
              "3     Tom Hardy Christian Bale Joseph Gordon-Levitt ...  \n",
              "4     Doug Walker Rob Walker unknown Doug Walker Doc...  \n",
              "...                                                 ...  \n",
              "5867  Will Smith Tom Holland Rashida Jones Nick Brun...  \n",
              "5868  Saoirse Ronan Emma Watson Florence Pugh Greta ...  \n",
              "5869  George MacKay Dean-Charles Chapman Mark Strong...  \n",
              "5870  Michael B. Jordan Jamie Foxx Brie Larson Desti...  \n",
              "5871  Alfre Woodard Wendell Pierce Aldis Hodge Chino...  \n",
              "\n",
              "[5872 rows x 7 columns]"
            ],
            "text/html": "<div>\n<style scoped>\n    .dataframe tbody tr th:only-of-type {\n        vertical-align: middle;\n    }\n\n    .dataframe tbody tr th {\n        vertical-align: top;\n    }\n\n    .dataframe thead th {\n        text-align: right;\n    }\n</style>\n<table border=\"1\" class=\"dataframe\">\n  <thead>\n    <tr style=\"text-align: right;\">\n      <th></th>\n      <th>director_name</th>\n      <th>actor_1_name</th>\n      <th>actor_2_name</th>\n      <th>actor_3_name</th>\n      <th>genres</th>\n      <th>movie_title</th>\n      <th>comb</th>\n    </tr>\n  </thead>\n  <tbody>\n    <tr>\n      <th>0</th>\n      <td>James Cameron</td>\n      <td>CCH Pounder</td>\n      <td>Joel David Moore</td>\n      <td>Wes Studi</td>\n      <td>Action Adventure Fantasy Sci-Fi</td>\n      <td>avatar</td>\n      <td>CCH Pounder Joel David Moore Wes Studi James C...</td>\n    </tr>\n    <tr>\n      <th>1</th>\n      <td>Gore Verbinski</td>\n      <td>Johnny Depp</td>\n      <td>Orlando Bloom</td>\n      <td>Jack Davenport</td>\n      <td>Action Adventure Fantasy</td>\n      <td>pirates of the caribbean: at world's end</td>\n      <td>Johnny Depp Orlando Bloom Jack Davenport Gore ...</td>\n    </tr>\n    <tr>\n      <th>2</th>\n      <td>Sam Mendes</td>\n      <td>Christoph Waltz</td>\n      <td>Rory Kinnear</td>\n      <td>Stephanie Sigman</td>\n      <td>Action Adventure Thriller</td>\n      <td>spectre</td>\n      <td>Christoph Waltz Rory Kinnear Stephanie Sigman ...</td>\n    </tr>\n    <tr>\n      <th>3</th>\n      <td>Christopher Nolan</td>\n      <td>Tom Hardy</td>\n      <td>Christian Bale</td>\n      <td>Joseph Gordon-Levitt</td>\n      <td>Action Thriller</td>\n      <td>the dark knight rises</td>\n      <td>Tom Hardy Christian Bale Joseph Gordon-Levitt ...</td>\n    </tr>\n    <tr>\n      <th>4</th>\n      <td>Doug Walker</td>\n      <td>Doug Walker</td>\n      <td>Rob Walker</td>\n      <td>unknown</td>\n      <td>Documentary</td>\n      <td>star wars: episode vii - the force awakens    ...</td>\n      <td>Doug Walker Rob Walker unknown Doug Walker Doc...</td>\n    </tr>\n    <tr>\n      <th>...</th>\n      <td>...</td>\n      <td>...</td>\n      <td>...</td>\n      <td>...</td>\n      <td>...</td>\n      <td>...</td>\n      <td>...</td>\n    </tr>\n    <tr>\n      <th>5867</th>\n      <td>Nick Bruno, Troy Quane</td>\n      <td>Will Smith</td>\n      <td>Tom Holland</td>\n      <td>Rashida Jones</td>\n      <td>Animation Action Adventure Comedy Family</td>\n      <td>spies in disguise</td>\n      <td>Will Smith Tom Holland Rashida Jones Nick Brun...</td>\n    </tr>\n    <tr>\n      <th>5868</th>\n      <td>Greta Gerwig</td>\n      <td>Saoirse Ronan</td>\n      <td>Emma Watson</td>\n      <td>Florence Pugh</td>\n      <td>Drama Romance</td>\n      <td>little women</td>\n      <td>Saoirse Ronan Emma Watson Florence Pugh Greta ...</td>\n    </tr>\n    <tr>\n      <th>5869</th>\n      <td>Sam Mendes</td>\n      <td>George MacKay</td>\n      <td>Dean-Charles Chapman</td>\n      <td>Mark Strong</td>\n      <td>War Drama Action Thriller</td>\n      <td>1917</td>\n      <td>George MacKay Dean-Charles Chapman Mark Strong...</td>\n    </tr>\n    <tr>\n      <th>5870</th>\n      <td>Destin Daniel Cretton</td>\n      <td>Michael B. Jordan</td>\n      <td>Jamie Foxx</td>\n      <td>Brie Larson</td>\n      <td>Drama Crime History</td>\n      <td>just mercy</td>\n      <td>Michael B. Jordan Jamie Foxx Brie Larson Desti...</td>\n    </tr>\n    <tr>\n      <th>5871</th>\n      <td>Chinonye Chukwu</td>\n      <td>Alfre Woodard</td>\n      <td>Wendell Pierce</td>\n      <td>Aldis Hodge</td>\n      <td>Drama</td>\n      <td>clemency</td>\n      <td>Alfre Woodard Wendell Pierce Aldis Hodge Chino...</td>\n    </tr>\n  </tbody>\n</table>\n<p>5872 rows × 7 columns</p>\n</div>"
          },
          "metadata": {},
          "execution_count": 36
        }
      ]
    },
    {
      "cell_type": "code",
      "execution_count": null,
      "metadata": {},
      "outputs": [],
      "source": []
    },
    {
      "cell_type": "code",
      "metadata": {
        "id": "P14B9e3GOZWZ"
      },
      "source": [
        "final_df = old_df.append(new_df21,ignore_index=True)"
      ],
      "execution_count": 37,
      "outputs": []
    },
    {
      "cell_type": "code",
      "metadata": {
        "id": "0RAVcY-jOZWZ",
        "outputId": "0e87fe5f-5a7a-4792-edf3-a5027e667af0"
      },
      "source": [
        "final_df"
      ],
      "execution_count": 38,
      "outputs": [
        {
          "output_type": "execute_result",
          "data": {
            "text/plain": [
              "             director_name         actor_1_name       actor_2_name  \\\n",
              "0            James Cameron          CCH Pounder   Joel David Moore   \n",
              "1           Gore Verbinski          Johnny Depp      Orlando Bloom   \n",
              "2               Sam Mendes      Christoph Waltz       Rory Kinnear   \n",
              "3        Christopher Nolan            Tom Hardy     Christian Bale   \n",
              "4              Doug Walker          Doug Walker         Rob Walker   \n",
              "...                    ...                  ...                ...   \n",
              "6034        Garth Jennings  Matthew McConaughey  Reese Witherspoon   \n",
              "6035        Matthew Vaughn        Ralph Fiennes     Gemma Arterton   \n",
              "6036          Simon Curtis      Hugh Bonneville         Jim Carter   \n",
              "6037            Joe Wright       Peter Dinklage      Haley Bennett   \n",
              "6038  Paul Thomas Anderson       Cooper Hoffman     Bradley Cooper   \n",
              "\n",
              "              actor_3_name                           genres  \\\n",
              "0                Wes Studi  Action Adventure Fantasy Sci-Fi   \n",
              "1           Jack Davenport         Action Adventure Fantasy   \n",
              "2         Stephanie Sigman        Action Adventure Thriller   \n",
              "3     Joseph Gordon-Levitt                  Action Thriller   \n",
              "4                  unknown                      Documentary   \n",
              "...                    ...                              ...   \n",
              "6034    Scarlett Johansson    Music Animation Comedy Family   \n",
              "6035            Rhys Ifans          Action Adventure Comedy   \n",
              "6036      Michelle Dockery                            Drama   \n",
              "6037        Ben Mendelsohn     Drama Comedy History Romance   \n",
              "6038            Alana Haim                           Comedy   \n",
              "\n",
              "                                            movie_title  \\\n",
              "0                                                avatar   \n",
              "1              pirates of the caribbean: at world's end   \n",
              "2                                               spectre   \n",
              "3                                 the dark knight rises   \n",
              "4     star wars: episode vii - the force awakens    ...   \n",
              "...                                                 ...   \n",
              "6034                                             sing 2   \n",
              "6035                                     the king's man   \n",
              "6036                                    downton abbey 2   \n",
              "6037                                             cyrano   \n",
              "6038                                       soggy bottom   \n",
              "\n",
              "                                                   comb  \n",
              "0     CCH Pounder Joel David Moore Wes Studi James C...  \n",
              "1     Johnny Depp Orlando Bloom Jack Davenport Gore ...  \n",
              "2     Christoph Waltz Rory Kinnear Stephanie Sigman ...  \n",
              "3     Tom Hardy Christian Bale Joseph Gordon-Levitt ...  \n",
              "4     Doug Walker Rob Walker unknown Doug Walker Doc...  \n",
              "...                                                 ...  \n",
              "6034  Matthew McConaughey Reese Witherspoon Scarlett...  \n",
              "6035  Ralph Fiennes Gemma Arterton Rhys Ifans Matthe...  \n",
              "6036  Hugh Bonneville Jim Carter Michelle Dockery Si...  \n",
              "6037  Peter Dinklage Haley Bennett Ben Mendelsohn Jo...  \n",
              "6038  Cooper Hoffman Bradley Cooper Alana Haim Paul ...  \n",
              "\n",
              "[6039 rows x 7 columns]"
            ],
            "text/html": "<div>\n<style scoped>\n    .dataframe tbody tr th:only-of-type {\n        vertical-align: middle;\n    }\n\n    .dataframe tbody tr th {\n        vertical-align: top;\n    }\n\n    .dataframe thead th {\n        text-align: right;\n    }\n</style>\n<table border=\"1\" class=\"dataframe\">\n  <thead>\n    <tr style=\"text-align: right;\">\n      <th></th>\n      <th>director_name</th>\n      <th>actor_1_name</th>\n      <th>actor_2_name</th>\n      <th>actor_3_name</th>\n      <th>genres</th>\n      <th>movie_title</th>\n      <th>comb</th>\n    </tr>\n  </thead>\n  <tbody>\n    <tr>\n      <th>0</th>\n      <td>James Cameron</td>\n      <td>CCH Pounder</td>\n      <td>Joel David Moore</td>\n      <td>Wes Studi</td>\n      <td>Action Adventure Fantasy Sci-Fi</td>\n      <td>avatar</td>\n      <td>CCH Pounder Joel David Moore Wes Studi James C...</td>\n    </tr>\n    <tr>\n      <th>1</th>\n      <td>Gore Verbinski</td>\n      <td>Johnny Depp</td>\n      <td>Orlando Bloom</td>\n      <td>Jack Davenport</td>\n      <td>Action Adventure Fantasy</td>\n      <td>pirates of the caribbean: at world's end</td>\n      <td>Johnny Depp Orlando Bloom Jack Davenport Gore ...</td>\n    </tr>\n    <tr>\n      <th>2</th>\n      <td>Sam Mendes</td>\n      <td>Christoph Waltz</td>\n      <td>Rory Kinnear</td>\n      <td>Stephanie Sigman</td>\n      <td>Action Adventure Thriller</td>\n      <td>spectre</td>\n      <td>Christoph Waltz Rory Kinnear Stephanie Sigman ...</td>\n    </tr>\n    <tr>\n      <th>3</th>\n      <td>Christopher Nolan</td>\n      <td>Tom Hardy</td>\n      <td>Christian Bale</td>\n      <td>Joseph Gordon-Levitt</td>\n      <td>Action Thriller</td>\n      <td>the dark knight rises</td>\n      <td>Tom Hardy Christian Bale Joseph Gordon-Levitt ...</td>\n    </tr>\n    <tr>\n      <th>4</th>\n      <td>Doug Walker</td>\n      <td>Doug Walker</td>\n      <td>Rob Walker</td>\n      <td>unknown</td>\n      <td>Documentary</td>\n      <td>star wars: episode vii - the force awakens    ...</td>\n      <td>Doug Walker Rob Walker unknown Doug Walker Doc...</td>\n    </tr>\n    <tr>\n      <th>...</th>\n      <td>...</td>\n      <td>...</td>\n      <td>...</td>\n      <td>...</td>\n      <td>...</td>\n      <td>...</td>\n      <td>...</td>\n    </tr>\n    <tr>\n      <th>6034</th>\n      <td>Garth Jennings</td>\n      <td>Matthew McConaughey</td>\n      <td>Reese Witherspoon</td>\n      <td>Scarlett Johansson</td>\n      <td>Music Animation Comedy Family</td>\n      <td>sing 2</td>\n      <td>Matthew McConaughey Reese Witherspoon Scarlett...</td>\n    </tr>\n    <tr>\n      <th>6035</th>\n      <td>Matthew Vaughn</td>\n      <td>Ralph Fiennes</td>\n      <td>Gemma Arterton</td>\n      <td>Rhys Ifans</td>\n      <td>Action Adventure Comedy</td>\n      <td>the king's man</td>\n      <td>Ralph Fiennes Gemma Arterton Rhys Ifans Matthe...</td>\n    </tr>\n    <tr>\n      <th>6036</th>\n      <td>Simon Curtis</td>\n      <td>Hugh Bonneville</td>\n      <td>Jim Carter</td>\n      <td>Michelle Dockery</td>\n      <td>Drama</td>\n      <td>downton abbey 2</td>\n      <td>Hugh Bonneville Jim Carter Michelle Dockery Si...</td>\n    </tr>\n    <tr>\n      <th>6037</th>\n      <td>Joe Wright</td>\n      <td>Peter Dinklage</td>\n      <td>Haley Bennett</td>\n      <td>Ben Mendelsohn</td>\n      <td>Drama Comedy History Romance</td>\n      <td>cyrano</td>\n      <td>Peter Dinklage Haley Bennett Ben Mendelsohn Jo...</td>\n    </tr>\n    <tr>\n      <th>6038</th>\n      <td>Paul Thomas Anderson</td>\n      <td>Cooper Hoffman</td>\n      <td>Bradley Cooper</td>\n      <td>Alana Haim</td>\n      <td>Comedy</td>\n      <td>soggy bottom</td>\n      <td>Cooper Hoffman Bradley Cooper Alana Haim Paul ...</td>\n    </tr>\n  </tbody>\n</table>\n<p>6039 rows × 7 columns</p>\n</div>"
          },
          "metadata": {},
          "execution_count": 38
        }
      ]
    },
    {
      "cell_type": "code",
      "metadata": {
        "id": "gCTWwaOiOZWZ"
      },
      "source": [
        "final_df.to_csv('main_data.csv',index=False)"
      ],
      "execution_count": 39,
      "outputs": []
    },
    {
      "cell_type": "code",
      "execution_count": 40,
      "metadata": {},
      "outputs": [
        {
          "output_type": "execute_result",
          "data": {
            "text/plain": [
              "(6039, 7)"
            ]
          },
          "metadata": {},
          "execution_count": 40
        }
      ],
      "source": [
        "final_df.shape"
      ]
    },
    {
      "cell_type": "code",
      "execution_count": 41,
      "metadata": {},
      "outputs": [
        {
          "output_type": "execute_result",
          "data": {
            "text/plain": [
              "             director_name         actor_1_name       actor_2_name  \\\n",
              "0            James Cameron          CCH Pounder   Joel David Moore   \n",
              "1           Gore Verbinski          Johnny Depp      Orlando Bloom   \n",
              "2               Sam Mendes      Christoph Waltz       Rory Kinnear   \n",
              "3        Christopher Nolan            Tom Hardy     Christian Bale   \n",
              "4              Doug Walker          Doug Walker         Rob Walker   \n",
              "...                    ...                  ...                ...   \n",
              "6034        Garth Jennings  Matthew McConaughey  Reese Witherspoon   \n",
              "6035        Matthew Vaughn        Ralph Fiennes     Gemma Arterton   \n",
              "6036          Simon Curtis      Hugh Bonneville         Jim Carter   \n",
              "6037            Joe Wright       Peter Dinklage      Haley Bennett   \n",
              "6038  Paul Thomas Anderson       Cooper Hoffman     Bradley Cooper   \n",
              "\n",
              "              actor_3_name                           genres  \\\n",
              "0                Wes Studi  Action Adventure Fantasy Sci-Fi   \n",
              "1           Jack Davenport         Action Adventure Fantasy   \n",
              "2         Stephanie Sigman        Action Adventure Thriller   \n",
              "3     Joseph Gordon-Levitt                  Action Thriller   \n",
              "4                  unknown                      Documentary   \n",
              "...                    ...                              ...   \n",
              "6034    Scarlett Johansson    Music Animation Comedy Family   \n",
              "6035            Rhys Ifans          Action Adventure Comedy   \n",
              "6036      Michelle Dockery                            Drama   \n",
              "6037        Ben Mendelsohn     Drama Comedy History Romance   \n",
              "6038            Alana Haim                           Comedy   \n",
              "\n",
              "                                            movie_title  \\\n",
              "0                                                avatar   \n",
              "1              pirates of the caribbean: at world's end   \n",
              "2                                               spectre   \n",
              "3                                 the dark knight rises   \n",
              "4     star wars: episode vii - the force awakens    ...   \n",
              "...                                                 ...   \n",
              "6034                                             sing 2   \n",
              "6035                                     the king's man   \n",
              "6036                                    downton abbey 2   \n",
              "6037                                             cyrano   \n",
              "6038                                       soggy bottom   \n",
              "\n",
              "                                                   comb  \n",
              "0     CCH Pounder Joel David Moore Wes Studi James C...  \n",
              "1     Johnny Depp Orlando Bloom Jack Davenport Gore ...  \n",
              "2     Christoph Waltz Rory Kinnear Stephanie Sigman ...  \n",
              "3     Tom Hardy Christian Bale Joseph Gordon-Levitt ...  \n",
              "4     Doug Walker Rob Walker unknown Doug Walker Doc...  \n",
              "...                                                 ...  \n",
              "6034  Matthew McConaughey Reese Witherspoon Scarlett...  \n",
              "6035  Ralph Fiennes Gemma Arterton Rhys Ifans Matthe...  \n",
              "6036  Hugh Bonneville Jim Carter Michelle Dockery Si...  \n",
              "6037  Peter Dinklage Haley Bennett Ben Mendelsohn Jo...  \n",
              "6038  Cooper Hoffman Bradley Cooper Alana Haim Paul ...  \n",
              "\n",
              "[6039 rows x 7 columns]"
            ],
            "text/html": "<div>\n<style scoped>\n    .dataframe tbody tr th:only-of-type {\n        vertical-align: middle;\n    }\n\n    .dataframe tbody tr th {\n        vertical-align: top;\n    }\n\n    .dataframe thead th {\n        text-align: right;\n    }\n</style>\n<table border=\"1\" class=\"dataframe\">\n  <thead>\n    <tr style=\"text-align: right;\">\n      <th></th>\n      <th>director_name</th>\n      <th>actor_1_name</th>\n      <th>actor_2_name</th>\n      <th>actor_3_name</th>\n      <th>genres</th>\n      <th>movie_title</th>\n      <th>comb</th>\n    </tr>\n  </thead>\n  <tbody>\n    <tr>\n      <th>0</th>\n      <td>James Cameron</td>\n      <td>CCH Pounder</td>\n      <td>Joel David Moore</td>\n      <td>Wes Studi</td>\n      <td>Action Adventure Fantasy Sci-Fi</td>\n      <td>avatar</td>\n      <td>CCH Pounder Joel David Moore Wes Studi James C...</td>\n    </tr>\n    <tr>\n      <th>1</th>\n      <td>Gore Verbinski</td>\n      <td>Johnny Depp</td>\n      <td>Orlando Bloom</td>\n      <td>Jack Davenport</td>\n      <td>Action Adventure Fantasy</td>\n      <td>pirates of the caribbean: at world's end</td>\n      <td>Johnny Depp Orlando Bloom Jack Davenport Gore ...</td>\n    </tr>\n    <tr>\n      <th>2</th>\n      <td>Sam Mendes</td>\n      <td>Christoph Waltz</td>\n      <td>Rory Kinnear</td>\n      <td>Stephanie Sigman</td>\n      <td>Action Adventure Thriller</td>\n      <td>spectre</td>\n      <td>Christoph Waltz Rory Kinnear Stephanie Sigman ...</td>\n    </tr>\n    <tr>\n      <th>3</th>\n      <td>Christopher Nolan</td>\n      <td>Tom Hardy</td>\n      <td>Christian Bale</td>\n      <td>Joseph Gordon-Levitt</td>\n      <td>Action Thriller</td>\n      <td>the dark knight rises</td>\n      <td>Tom Hardy Christian Bale Joseph Gordon-Levitt ...</td>\n    </tr>\n    <tr>\n      <th>4</th>\n      <td>Doug Walker</td>\n      <td>Doug Walker</td>\n      <td>Rob Walker</td>\n      <td>unknown</td>\n      <td>Documentary</td>\n      <td>star wars: episode vii - the force awakens    ...</td>\n      <td>Doug Walker Rob Walker unknown Doug Walker Doc...</td>\n    </tr>\n    <tr>\n      <th>...</th>\n      <td>...</td>\n      <td>...</td>\n      <td>...</td>\n      <td>...</td>\n      <td>...</td>\n      <td>...</td>\n      <td>...</td>\n    </tr>\n    <tr>\n      <th>6034</th>\n      <td>Garth Jennings</td>\n      <td>Matthew McConaughey</td>\n      <td>Reese Witherspoon</td>\n      <td>Scarlett Johansson</td>\n      <td>Music Animation Comedy Family</td>\n      <td>sing 2</td>\n      <td>Matthew McConaughey Reese Witherspoon Scarlett...</td>\n    </tr>\n    <tr>\n      <th>6035</th>\n      <td>Matthew Vaughn</td>\n      <td>Ralph Fiennes</td>\n      <td>Gemma Arterton</td>\n      <td>Rhys Ifans</td>\n      <td>Action Adventure Comedy</td>\n      <td>the king's man</td>\n      <td>Ralph Fiennes Gemma Arterton Rhys Ifans Matthe...</td>\n    </tr>\n    <tr>\n      <th>6036</th>\n      <td>Simon Curtis</td>\n      <td>Hugh Bonneville</td>\n      <td>Jim Carter</td>\n      <td>Michelle Dockery</td>\n      <td>Drama</td>\n      <td>downton abbey 2</td>\n      <td>Hugh Bonneville Jim Carter Michelle Dockery Si...</td>\n    </tr>\n    <tr>\n      <th>6037</th>\n      <td>Joe Wright</td>\n      <td>Peter Dinklage</td>\n      <td>Haley Bennett</td>\n      <td>Ben Mendelsohn</td>\n      <td>Drama Comedy History Romance</td>\n      <td>cyrano</td>\n      <td>Peter Dinklage Haley Bennett Ben Mendelsohn Jo...</td>\n    </tr>\n    <tr>\n      <th>6038</th>\n      <td>Paul Thomas Anderson</td>\n      <td>Cooper Hoffman</td>\n      <td>Bradley Cooper</td>\n      <td>Alana Haim</td>\n      <td>Comedy</td>\n      <td>soggy bottom</td>\n      <td>Cooper Hoffman Bradley Cooper Alana Haim Paul ...</td>\n    </tr>\n  </tbody>\n</table>\n<p>6039 rows × 7 columns</p>\n</div>"
          },
          "metadata": {},
          "execution_count": 41
        }
      ],
      "source": [
        "final_df"
      ]
    },
    {
      "cell_type": "code",
      "execution_count": null,
      "metadata": {},
      "outputs": [],
      "source": []
    }
  ]
}